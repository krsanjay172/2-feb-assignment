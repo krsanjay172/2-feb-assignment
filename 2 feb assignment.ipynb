{
 "cells": [
  {
   "cell_type": "code",
   "execution_count": 1,
   "id": "fae76506-d8cc-4dd8-8447-9c51dd903712",
   "metadata": {},
   "outputs": [],
   "source": [
    "# A for loop is used when you want to execute a block of code a specific number of times. For example if you print the number from 1 to 10."
   ]
  },
  {
   "cell_type": "code",
   "execution_count": 2,
   "id": "4b445ac8-3e1c-4434-8464-5d30cbeb604b",
   "metadata": {},
   "outputs": [],
   "source": [
    "l=[1,2,3,4,5,6,7,8,9,10]"
   ]
  },
  {
   "cell_type": "code",
   "execution_count": 5,
   "id": "3c803914-51e9-41bb-a722-26646de06165",
   "metadata": {},
   "outputs": [
    {
     "name": "stdout",
     "output_type": "stream",
     "text": [
      "1\n",
      "2\n",
      "3\n",
      "4\n",
      "5\n",
      "6\n",
      "7\n",
      "8\n",
      "9\n",
      "10\n"
     ]
    }
   ],
   "source": [
    "for i in l :\n",
    "    print(i)"
   ]
  },
  {
   "cell_type": "code",
   "execution_count": 4,
   "id": "35937b04-988a-475a-8e9a-1615c0e12b17",
   "metadata": {},
   "outputs": [
    {
     "name": "stdout",
     "output_type": "stream",
     "text": [
      "1\n",
      "2\n",
      "3\n",
      "4\n",
      "5\n",
      "6\n",
      "7\n",
      "8\n",
      "9\n"
     ]
    }
   ],
   "source": [
    "for i in range(1,10):\n",
    "    print(i)"
   ]
  },
  {
   "cell_type": "code",
   "execution_count": 6,
   "id": "8e73296d-ee6a-4cd5-b4f0-51d63cda35d1",
   "metadata": {},
   "outputs": [],
   "source": [
    "# on the other hand, a while loop is used when you want to execute a bloxk of code as long as a certain condition is met.For example"
   ]
  },
  {
   "cell_type": "code",
   "execution_count": 7,
   "id": "851c38c9-52b7-413b-b32c-1aeac4620e2c",
   "metadata": {},
   "outputs": [
    {
     "name": "stdout",
     "output_type": "stream",
     "text": [
      "1\n",
      "2\n",
      "3\n",
      "4\n",
      "5\n",
      "6\n",
      "7\n",
      "8\n",
      "9\n",
      "10\n"
     ]
    }
   ],
   "source": [
    "a=1\n",
    "while a<=10 :\n",
    "    print(a)\n",
    "    a=a+1"
   ]
  },
  {
   "cell_type": "code",
   "execution_count": 8,
   "id": "f1d59727-a794-4aa9-b2ef-b0bdcacb5de1",
   "metadata": {},
   "outputs": [],
   "source": [
    "# que.2-"
   ]
  },
  {
   "cell_type": "code",
   "execution_count": 2,
   "id": "7284e0da-66f1-46a7-85e3-d704dfd80266",
   "metadata": {},
   "outputs": [
    {
     "name": "stdout",
     "output_type": "stream",
     "text": [
      "Sum of first 10 natural numbers: 55\n",
      "Product of first 10 natural numbers: 3628800\n"
     ]
    }
   ],
   "source": [
    "sum = 0\n",
    "product = 1\n",
    "i = 1\n",
    "\n",
    "# Use a while loop to iterate over the first 10 natural numbers\n",
    "while i <= 10:\n",
    "    sum += i\n",
    "    product *= i\n",
    "    i += 1\n",
    "\n",
    "# Print the sum and product\n",
    "print(\"Sum of first 10 natural numbers:\", sum)\n",
    "print(\"Product of first 10 natural numbers:\", product)\n"
   ]
  },
  {
   "cell_type": "code",
   "execution_count": 3,
   "id": "9e566808-710b-43ba-9436-198314991c4a",
   "metadata": {},
   "outputs": [],
   "source": [
    "# que 3-"
   ]
  },
  {
   "cell_type": "code",
   "execution_count": 8,
   "id": "16a8c1e1-ac05-452f-b022-ef52b9d21bd8",
   "metadata": {},
   "outputs": [
    {
     "name": "stdin",
     "output_type": "stream",
     "text": [
      "Enter the number of units consumed:  310\n"
     ]
    },
    {
     "name": "stdout",
     "output_type": "stream",
     "text": [
      "Total electricity bill: Rs. 2250.0\n"
     ]
    }
   ],
   "source": [
    "units = int(input(\"Enter the number of units consumed: \"))\n",
    "\n",
    "bill = 0\n",
    "\n",
    "# Calculate the bill based on the per-unit charges\n",
    "if units <= 100:\n",
    "    bill = units * 4.5\n",
    "elif units <= 200:\n",
    "    bill = (100 * 4.5) + ((units - 100) * 6)\n",
    "elif units <= 300:\n",
    "    bill = (100 * 4.5) + (100 * 6) + ((units - 200) * 10)\n",
    "else:\n",
    "    bill = (100 * 4.5) + (100 * 6) + (100 * 10) + ((units - 300) * 20)\n",
    "\n",
    "# Print the total electricity bill\n",
    "print(\"Total electricity bill: Rs.\", bill)\n"
   ]
  },
  {
   "cell_type": "code",
   "execution_count": null,
   "id": "7969e8b7-d723-4aac-b5ed-a4f9d86d3143",
   "metadata": {},
   "outputs": [],
   "source": [
    "# que.4"
   ]
  },
  {
   "cell_type": "code",
   "execution_count": 12,
   "id": "17aecca9-cdbd-42c5-93c3-11e6cc6652b9",
   "metadata": {},
   "outputs": [
    {
     "name": "stdout",
     "output_type": "stream",
     "text": [
      "Numbers whose cubes are divisible by 4 or 5: [2, 4, 5, 6, 8, 10, 12, 14, 15, 16, 18, 20, 22, 24, 25, 26, 28, 30, 32, 34, 35, 36, 38, 40, 42, 44, 45, 46, 48, 50, 52, 54, 55, 56, 58, 60, 62, 64, 65, 66, 68, 70, 72, 74, 75, 76, 78, 80, 82, 84, 85, 86, 88, 90, 92, 94, 95, 96, 98]\n"
     ]
    }
   ],
   "source": [
    "numbers = []\n",
    "\n",
    "cubes = []\n",
    "\n",
    "# Use a for loop to create a list of numbers from 1 to 100\n",
    "for i in range(1, 100):\n",
    "    numbers.append(i)\n",
    "\n",
    "for i in numbers:\n",
    "    cube = i**3\n",
    "    # Check if the cube is divisible by 4 or 5\n",
    "    if cube % 4 == 0 or cube % 5 == 0:\n",
    "        cubes.append(i)\n",
    "\n",
    "# Print the list of numbers whose cubes are divisible by 4 or 5\n",
    "print(\"Numbers whose cubes are divisible by 4 or 5:\", cubes)\n"
   ]
  },
  {
   "cell_type": "code",
   "execution_count": 11,
   "id": "4c03a609-4c1c-416b-95d7-e865bbd149e1",
   "metadata": {},
   "outputs": [
    {
     "name": "stdout",
     "output_type": "stream",
     "text": [
      "Numbers with cubes divisible by 4 or 5: [2, 4, 5, 6, 8, 10, 12, 14, 15, 16, 18, 20, 22, 24, 25, 26, 28, 30, 32, 34, 35, 36, 38, 40, 42, 44, 45, 46, 48, 50, 52, 54, 55, 56, 58, 60, 62, 64, 65, 66, 68, 70, 72, 74, 75, 76, 78, 80, 82, 84, 85, 86, 88, 90, 92, 94, 95, 96, 98]\n"
     ]
    }
   ],
   "source": [
    "numbers = list(range(1, 100))\n",
    "\n",
    "result = []\n",
    "\n",
    "# Use a while loop to iterate over the list of numbers\n",
    "i = 0\n",
    "while i < len(numbers):\n",
    "    cube = numbers[i]**3\n",
    "    if cube % 4 == 0 or cube % 5 == 0:\n",
    "        result.append(numbers[i])\n",
    "    i += 1\n",
    "\n",
    "# Print the result\n",
    "print(\"Numbers with cubes divisible by 4 or 5:\", result)\n"
   ]
  },
  {
   "cell_type": "code",
   "execution_count": 13,
   "id": "8c7dffe5-0bb4-4399-a583-0b94e0cc709e",
   "metadata": {},
   "outputs": [],
   "source": [
    "# que-5"
   ]
  },
  {
   "cell_type": "code",
   "execution_count": 14,
   "id": "7c975a44-a45b-4fa2-8761-3de702b1c8cf",
   "metadata": {},
   "outputs": [
    {
     "name": "stdout",
     "output_type": "stream",
     "text": [
      "Number of vowels in the string: 12\n"
     ]
    }
   ],
   "source": [
    "string = \"I want to become a data scientist\"\n",
    "\n",
    "vowel_count = 0\n",
    "\n",
    "# Use a for loop to iterate over each character in the string\n",
    "for char in string:\n",
    "    # Check if the character is a vowel (a, e, i, o, or u)\n",
    "    if char in \"aeiouAEIOU\":\n",
    "        vowel_count += 1\n",
    "\n",
    "# Print the count of vowels\n",
    "print(\"Number of vowels in the string:\", vowel_count)\n"
   ]
  },
  {
   "cell_type": "code",
   "execution_count": null,
   "id": "d4d4a264-bb8f-4db6-a687-c9226e62877b",
   "metadata": {},
   "outputs": [],
   "source": []
  }
 ],
 "metadata": {
  "kernelspec": {
   "display_name": "Python 3 (ipykernel)",
   "language": "python",
   "name": "python3"
  },
  "language_info": {
   "codemirror_mode": {
    "name": "ipython",
    "version": 3
   },
   "file_extension": ".py",
   "mimetype": "text/x-python",
   "name": "python",
   "nbconvert_exporter": "python",
   "pygments_lexer": "ipython3",
   "version": "3.10.8"
  }
 },
 "nbformat": 4,
 "nbformat_minor": 5
}
